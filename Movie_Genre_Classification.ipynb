{
 "cells": [
  {
   "cell_type": "code",
   "execution_count": 1,
   "id": "9c1c516c",
   "metadata": {},
   "outputs": [],
   "source": [
    "# Import necessary libraries\n",
    "import pandas as pd\n",
    "import matplotlib.pyplot as plt\n",
    "from sklearn.feature_extraction.text import TfidfVectorizer\n",
    "from sklearn.model_selection import train_test_split\n",
    "from sklearn.naive_bayes import MultinomialNB\n",
    "from sklearn.svm import SVC\n",
    "from sklearn.preprocessing import StandardScaler\n",
    "from sklearn.metrics import accuracy_score, classification_report"
   ]
  },
  {
   "cell_type": "code",
   "execution_count": 2,
   "id": "0fcc8746",
   "metadata": {},
   "outputs": [],
   "source": [
    "# Load your dataset\n",
    "data = pd.read_csv('train_data.csv', sep=':::', engine='python', header=None,names=['ID', 'Title', 'Genre', 'Plot'])\n",
    "# Preprocess the text data (cleaning, tokenization, etc.)\n",
    "# You may need to define a function for text preprocessing\n",
    "\n",
    "# Split the data into features (X) and labels (y)\n",
    "X = data['Plot']\n",
    "y = data['Genre']"
   ]
  },
  {
   "cell_type": "code",
   "execution_count": 3,
   "id": "ce703d77",
   "metadata": {},
   "outputs": [
    {
     "name": "stdout",
     "output_type": "stream",
     "text": [
      "Naive Bayes Accuracy: 0.4733007470257309\n",
      "Naive Bayes Classification Report:\n",
      "               precision    recall  f1-score   support\n",
      "\n",
      "      action        0.00      0.00      0.00       263\n",
      "       adult        0.00      0.00      0.00       112\n",
      "   adventure        0.00      0.00      0.00       139\n",
      "   animation        0.00      0.00      0.00       104\n",
      "   biography        0.00      0.00      0.00        61\n",
      "      comedy        0.51      0.26      0.34      1443\n",
      "       crime        0.00      0.00      0.00       107\n",
      " documentary        0.53      0.89      0.66      2659\n",
      "       drama        0.41      0.83      0.55      2697\n",
      "      family        0.00      0.00      0.00       150\n",
      "     fantasy        0.00      0.00      0.00        74\n",
      "   game-show        1.00      0.05      0.10        40\n",
      "     history        0.00      0.00      0.00        45\n",
      "      horror        0.80      0.09      0.16       431\n",
      "       music        0.75      0.04      0.08       144\n",
      "     musical        0.00      0.00      0.00        50\n",
      "     mystery        0.00      0.00      0.00        56\n",
      "        news        0.00      0.00      0.00        34\n",
      "  reality-tv        1.00      0.01      0.02       192\n",
      "     romance        0.00      0.00      0.00       151\n",
      "      sci-fi        1.00      0.01      0.03       143\n",
      "       short        0.63      0.03      0.06      1045\n",
      "       sport        0.75      0.03      0.06        93\n",
      "   talk-show        0.00      0.00      0.00        81\n",
      "    thriller        0.67      0.01      0.03       309\n",
      "         war        0.00      0.00      0.00        20\n",
      "     western        0.94      0.31      0.47       200\n",
      "\n",
      "     accuracy                           0.47     10843\n",
      "    macro avg       0.33      0.10      0.09     10843\n",
      " weighted avg       0.48      0.47      0.37     10843\n",
      "\n"
     ]
    },
    {
     "name": "stderr",
     "output_type": "stream",
     "text": [
      "C:\\Users\\MAYURSINGH\\anaconda3\\lib\\site-packages\\sklearn\\metrics\\_classification.py:1318: UndefinedMetricWarning: Precision and F-score are ill-defined and being set to 0.0 in labels with no predicted samples. Use `zero_division` parameter to control this behavior.\n",
      "  _warn_prf(average, modifier, msg_start, len(result))\n",
      "C:\\Users\\MAYURSINGH\\anaconda3\\lib\\site-packages\\sklearn\\metrics\\_classification.py:1318: UndefinedMetricWarning: Precision and F-score are ill-defined and being set to 0.0 in labels with no predicted samples. Use `zero_division` parameter to control this behavior.\n",
      "  _warn_prf(average, modifier, msg_start, len(result))\n",
      "C:\\Users\\MAYURSINGH\\anaconda3\\lib\\site-packages\\sklearn\\metrics\\_classification.py:1318: UndefinedMetricWarning: Precision and F-score are ill-defined and being set to 0.0 in labels with no predicted samples. Use `zero_division` parameter to control this behavior.\n",
      "  _warn_prf(average, modifier, msg_start, len(result))\n"
     ]
    }
   ],
   "source": [
    "# Convert text data into numerical features using TF-IDF\n",
    "tfidf_vectorizer = TfidfVectorizer(max_features=1000)  # You can adjust the max_features parameter\n",
    "X_tfidf = tfidf_vectorizer.fit_transform(X)\n",
    "\n",
    "# Split the dataset into training and testing sets\n",
    "X_train, X_test, y_train, y_test = train_test_split(X_tfidf, y, test_size=0.2, random_state=42)\n",
    "\n",
    "# Train a Naive Bayes (MultinomialNB) classifier\n",
    "nb_classifier = MultinomialNB()\n",
    "nb_classifier.fit(X_train, y_train)\n",
    "\n",
    "# Predict the genres on the testing data using Naive Bayes\n",
    "y_nb_pred = nb_classifier.predict(X_test)\n",
    "\n",
    "# Evaluate Naive Bayes performance\n",
    "accuracy_nb = accuracy_score(y_test, y_nb_pred)\n",
    "classification_rep_nb = classification_report(y_test, y_nb_pred, zero_division='warn')  # Set zero_division parameter\n",
    "\n",
    "print(\"Naive Bayes Accuracy:\", accuracy_nb)\n",
    "print(\"Naive Bayes Classification Report:\")\n",
    "print(classification_rep_nb)"
   ]
  },
  {
   "cell_type": "code",
   "execution_count": 4,
   "id": "bd0b874e",
   "metadata": {},
   "outputs": [
    {
     "data": {
      "image/png": "[encoded data removed]",
      "text/plain": [
       "<Figure size 576x288 with 1 Axes>"
      ]
     },
     "metadata": {
      "needs_background": "light"
     },
     "output_type": "display_data"
    }
   ],
   "source": [
    "# Visualize the data (example: class distribution)\n",
    "plt.figure(figsize=(8, 4))\n",
    "data['Genre'].value_counts().plot(kind='bar')\n",
    "plt.title('Genre Distribution')\n",
    "plt.xlabel('Genre')\n",
    "plt.ylabel('Count')\n",
    "plt.show()"
   ]
  },
  {
   "cell_type": "code",
   "execution_count": 5,
   "id": "3971757e",
   "metadata": {},
   "outputs": [
    {
     "name": "stdout",
     "output_type": "stream",
     "text": [
      "\n",
      "SVM Accuracy: 0.551415659872729\n",
      "SVM Classification Report:\n",
      "               precision    recall  f1-score   support\n",
      "\n",
      "      action        0.40      0.18      0.25       263\n",
      "       adult        0.69      0.18      0.28       112\n",
      "   adventure        0.33      0.06      0.10       139\n",
      "   animation        0.33      0.01      0.02       104\n",
      "   biography        0.00      0.00      0.00        61\n",
      "      comedy        0.46      0.52      0.49      1443\n",
      "       crime        0.50      0.01      0.02       107\n",
      " documentary        0.64      0.86      0.73      2659\n",
      "       drama        0.50      0.78      0.61      2697\n",
      "      family        0.50      0.09      0.15       150\n",
      "     fantasy        0.00      0.00      0.00        74\n",
      "   game-show        1.00      0.38      0.55        40\n",
      "     history        0.00      0.00      0.00        45\n",
      "      horror        0.60      0.48      0.54       431\n",
      "       music        0.66      0.38      0.48       144\n",
      "     musical        0.00      0.00      0.00        50\n",
      "     mystery        0.00      0.00      0.00        56\n",
      "        news        1.00      0.03      0.06        34\n",
      "  reality-tv        0.61      0.20      0.30       192\n",
      "     romance        0.00      0.00      0.00       151\n",
      "      sci-fi        0.49      0.14      0.22       143\n",
      "       short        0.49      0.24      0.33      1045\n",
      "       sport        0.82      0.10      0.17        93\n",
      "   talk-show        0.53      0.12      0.20        81\n",
      "    thriller        0.44      0.05      0.09       309\n",
      "         war        1.00      0.05      0.10        20\n",
      "     western        0.89      0.60      0.72       200\n",
      "\n",
      "     accuracy                           0.55     10843\n",
      "    macro avg       0.48      0.20      0.24     10843\n",
      " weighted avg       0.53      0.55      0.50     10843\n",
      "\n"
     ]
    },
    {
     "name": "stderr",
     "output_type": "stream",
     "text": [
      "C:\\Users\\MAYURSINGH\\anaconda3\\lib\\site-packages\\sklearn\\metrics\\_classification.py:1318: UndefinedMetricWarning: Precision and F-score are ill-defined and being set to 0.0 in labels with no predicted samples. Use `zero_division` parameter to control this behavior.\n",
      "  _warn_prf(average, modifier, msg_start, len(result))\n",
      "C:\\Users\\MAYURSINGH\\anaconda3\\lib\\site-packages\\sklearn\\metrics\\_classification.py:1318: UndefinedMetricWarning: Precision and F-score are ill-defined and being set to 0.0 in labels with no predicted samples. Use `zero_division` parameter to control this behavior.\n",
      "  _warn_prf(average, modifier, msg_start, len(result))\n",
      "C:\\Users\\MAYURSINGH\\anaconda3\\lib\\site-packages\\sklearn\\metrics\\_classification.py:1318: UndefinedMetricWarning: Precision and F-score are ill-defined and being set to 0.0 in labels with no predicted samples. Use `zero_division` parameter to control this behavior.\n",
      "  _warn_prf(average, modifier, msg_start, len(result))\n"
     ]
    }
   ],
   "source": [
    "# Train a Support Vector Machine (SVM) classifier\n",
    "svm_classifier = SVC()\n",
    "svm_classifier.fit(X_train, y_train)\n",
    "\n",
    "# Predict the genres on the testing data using SVM\n",
    "y_svm_pred = svm_classifier.predict(X_test)\n",
    "\n",
    "# Evaluate SVM performance\n",
    "accuracy_svm = accuracy_score(y_test, y_svm_pred)\n",
    "classification_rep_svm = classification_report(y_test, y_svm_pred, zero_division='warn')  # Set zero_division parameter\n",
    "\n",
    "print(\"\\nSVM Accuracy:\", accuracy_svm)\n",
    "print(\"SVM Classification Report:\")\n",
    "print(classification_rep_svm)"
   ]
  },
  {
   "cell_type": "code",
   "execution_count": 6,
   "id": "42c33334",
   "metadata": {},
   "outputs": [
    {
     "data": {
      "image/png": "[encoded data removed]",
      "text/plain": [
       "<Figure size 576x288 with 1 Axes>"
      ]
     },
     "metadata": {
      "needs_background": "light"
     },
     "output_type": "display_data"
    }
   ],
   "source": [
    "# Visualize model comparison\n",
    "plt.figure(figsize=(8, 4))\n",
    "models = ['Naive Bayes', 'SVM']\n",
    "accuracies = [accuracy_nb, accuracy_svm]\n",
    "plt.bar(models, accuracies, color=['blue', 'green'])\n",
    "plt.title('Model Comparison')\n",
    "plt.xlabel('Model')\n",
    "plt.ylabel('Accuracy')\n",
    "plt.ylim(0, 1)\n",
    "plt.show()"
   ]
  },
  {
   "cell_type": "code",
   "execution_count": null,
   "id": "1c2dce93",
   "metadata": {},
   "outputs": [],
   "source": []
  }
 ],
 "metadata": {
  "kernelspec": {
   "display_name": "Python 3 (ipykernel)",
   "language": "python",
   "name": "python3"
  },
  "language_info": {
   "codemirror_mode": {
    "name": "ipython",
    "version": 3
   },
   "file_extension": ".py",
   "mimetype": "text/x-python",
   "name": "python",
   "nbconvert_exporter": "python",
   "pygments_lexer": "ipython3",
   "version": "3.9.12"
  }
 },
 "nbformat": 4,
 "nbformat_minor": 5
}
